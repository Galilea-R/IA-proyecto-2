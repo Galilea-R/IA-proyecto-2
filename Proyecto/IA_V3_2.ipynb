{
 "cells": [
  {
   "cell_type": "code",
   "execution_count": 1,
   "metadata": {},
   "outputs": [
    {
     "name": "stdout",
     "output_type": "stream",
     "text": [
      "Solución encontrada:\n",
      "N: 0\n",
      "E: 0\n",
      "D: 0\n",
      "O: 0\n",
      "R: 0\n",
      "S: 0\n",
      "=: 0\n",
      "M: 0\n",
      "Y: 0\n"
     ]
    }
   ],
   "source": [
    "def solve_cryptarithmetic(puzzle):\n",
    "    words = puzzle[:-1].split('+')\n",
    "    result_word = puzzle[-1]\n",
    "    chars = set(''.join(words) + result_word)\n",
    "\n",
    "    def is_valid_assignment(assignment):\n",
    "        return sum(assignment[word[0]] for word in words) == assignment[result_word[0]]\n",
    "\n",
    "    def is_consistent(char, digit, assignment):\n",
    "        return char not in assignment or assignment[char] == digit\n",
    "\n",
    "    def propagate_constraints(assignment):\n",
    "        updated = True\n",
    "        while updated:\n",
    "            updated = False\n",
    "            for word in words:\n",
    "                if len(word) == 1:  # Si la palabra tiene solo un carácter, no se pueden propagar restricciones\n",
    "                    continue\n",
    "                if all(c in assignment for c in word[:-1]):\n",
    "                    last_char = word[-1]\n",
    "                    if last_char not in assignment:\n",
    "                        possible_digits = [int(d) for d in range(10) if d not in assignment.values()]\n",
    "                        consistent_digits = [d for d in possible_digits if is_consistent(last_char, d, assignment)]\n",
    "                        if len(consistent_digits) == 1:\n",
    "                            assignment[last_char] = consistent_digits[0]\n",
    "                            updated = True\n",
    "\n",
    "    def select_next_char(assignment):\n",
    "        unassigned_chars = chars - assignment.keys()\n",
    "        unassigned_chars = sorted(unassigned_chars, key=lambda char: calculate_degree(char), reverse=True)\n",
    "        return unassigned_chars[0] if unassigned_chars else None\n",
    "\n",
    "    def calculate_degree(char):\n",
    "        return sum(1 for word in words if char in word)\n",
    "\n",
    "    def backtrack_search(assignment):\n",
    "        if len(assignment) == len(chars):\n",
    "            if is_valid_assignment(assignment):\n",
    "                return assignment\n",
    "            else:\n",
    "                return None\n",
    "\n",
    "        char = select_next_char(assignment)\n",
    "        if char is None:\n",
    "            return None\n",
    "\n",
    "        for digit in range(10):\n",
    "            if is_consistent(char, digit, assignment):\n",
    "                assignment[char] = digit\n",
    "                propagate_constraints(assignment)  # Propagar restricciones después de cada asignación\n",
    "                result = backtrack_search(assignment)\n",
    "                if result:\n",
    "                    return result\n",
    "                assignment.pop(char)\n",
    "        return None\n",
    "\n",
    "    solution = backtrack_search({})\n",
    "    return solution\n",
    "\n",
    "# Example usage\n",
    "if __name__ == \"__main__\":\n",
    "    puzzle = \"SEND+MORE=MONEY\"\n",
    "    solution = solve_cryptarithmetic(puzzle)\n",
    "    if solution:\n",
    "        print(\"Solución encontrada:\")\n",
    "        for char, digit in solution.items():\n",
    "            print(f\"{char}: {digit}\")\n",
    "    else:\n",
    "        print(\"No se encontró solución.\")"
   ]
  },
  {
   "cell_type": "code",
   "execution_count": 10,
   "metadata": {},
   "outputs": [
    {
     "name": "stdout",
     "output_type": "stream",
     "text": [
      "Solución encontrada:\n",
      "Y: 0\n",
      "N: 0\n",
      "D: 0\n",
      "E: 0\n",
      "O: 0\n",
      "R: 0\n",
      "S: 0\n",
      "=: 0\n",
      "M: 0\n"
     ]
    }
   ],
   "source": [
    "equation = \"SEND+MORE=MONEY\"\n",
    "solution = solve_cryptarithmetic(equation)\n",
    "\n",
    "if solution:\n",
    "  print(\"Solución encontrada:\")\n",
    "  for char, digit in solution.items():\n",
    "    print(f\"{char}: {digit}\")\n",
    "else:\n",
    "  print(\"No se encontró solución.\")\n"
   ]
  },
  {
   "cell_type": "code",
   "execution_count": 18,
   "metadata": {},
   "outputs": [],
   "source": [
    "import random "
   ]
  },
  {
   "cell_type": "code",
   "execution_count": null,
   "metadata": {},
   "outputs": [],
   "source": [
    "#### "
   ]
  },
  {
   "cell_type": "code",
   "execution_count": 48,
   "metadata": {},
   "outputs": [],
   "source": [
    "class Variable:\n",
    "    def __init__(self, name):\n",
    "        self.name = name\n",
    "        self.domain = set(range(10))\n",
    "        self._assigned = False\n",
    "\n",
    "    def assigned(self):\n",
    "        return self._assigned\n",
    "\n",
    "    def unassign(self):\n",
    "        self._assigned = False\n",
    "\n",
    "    def assign(self, value):\n",
    "        self.domain = {value}\n",
    "        self._assigned = True\n",
    "        \n",
    "\n",
    "class Constraint:\n",
    "    def __init__(self, variable1, position, value):\n",
    "        self.variable1 = variable1\n",
    "        self.position = position\n",
    "        self.value = value\n",
    "        self.domain1 = set(range(10))\n",
    "        self.domain2 = set(range(10))\n",
    "\n",
    "    def reduce_domain(self, variable2):\n",
    "        if variable2 in self.variable1.domain:\n",
    "            self.domain1.intersection_update(self.variable1.domain)\n",
    "            self.domain2.intersection_update(self.variable1.domain)\n",
    "\n",
    "    def reduce_domain1_intersection(self):\n",
    "        self.domain1.intersection_update(self.variable1.domain)\n",
    "\n",
    "    def reduce_domain2_intersection(self):\n",
    "        self.domain2.intersection_update(self.variable1.domain)\n",
    "        \n",
    "class Cryptarithmetic:\n",
    "    def __init__(self, equation):\n",
    "        self.equation = equation\n",
    "        self.variables = {}\n",
    "        self.domains = {}\n",
    "        self.constraints = {}\n",
    "        self.assignments = {}\n",
    "        self.propagate_rules = []\n",
    "\n",
    "        # Define the variables\n",
    "        for letter in equation:\n",
    "            if letter.isalpha() and letter not in self.assignments:\n",
    "                self.variables[letter] = Variable(letter)\n",
    "                self.domains[letter] = set(range(10))\n",
    "\n",
    "        # Define the constraints\n",
    "        for i, (a, b, c) in enumerate(zip(equation[:-1], equation[1:], equation[2:])):\n",
    "            if a.isalpha() and b.isalpha() and c.isdigit():\n",
    "                self.constraints[(a, i)] = Constraint(a, i, int(c) - int(b))\n",
    "\n",
    "        # Define the propagation rules\n",
    "        self.propagate_rules.append(self.rule_unique_value)\n",
    "        self.propagate_rules.append(self.rule_sum_domain)\n",
    "        self.propagate_rules.append(self.rule_difference_domain)\n",
    "\n",
    "    def rule_unique_value(self):\n",
    "        for variable in self.variables.values():\n",
    "            if len(variable.domain) == 1:\n",
    "                self.assignments[variable.name] = variable.domain.pop()\n",
    "                for constraint in self.constraints.values():\n",
    "                    constraint.reduce_domain(variable.name)\n",
    "\n",
    "    def rule_sum_domain(self):\n",
    "        for constraint in self.constraints.values():\n",
    "            if len(constraint.domain1.intersection(constraint.domain2)) == 0:\n",
    "                return\n",
    "            if constraint.value <= sum(constraint.domain1.intersection(constraint.domain2)):\n",
    "                constraint.reduce_domain1_intersection()\n",
    "                constraint.reduce_domain2_intersection()\n",
    "\n",
    "    def rule_difference_domain(self):\n",
    "        for constraint in self.constraints.values():\n",
    "            if max(constraint.domain1) - min(constraint.domain2) > constraint.value - sum(constraint.domain2):\n",
    "                constraint.reduce_domain1_intersection()\n",
    "                constraint.reduce_domain2_intersection()\n",
    "\n",
    "    def propagate(self):\n",
    "        for rule in self.propagate_rules:\n",
    "            rule()\n",
    "\n",
    "    def consistent(self):\n",
    "        for variable in self.variables.values():\n",
    "            if len(variable.domain) == 0:\n",
    "                return False\n",
    "        return True\n",
    "\n",
    "    def solved(self):\n",
    "        return len(self.assignments) == len(self.variables)\n",
    "    \n",
    "    def search(self, depth_limit=1):\n",
    "        if not self.consistent():\n",
    "            return False\n",
    "        if self.solved():\n",
    "            self.solutions.append(self.assignments.copy())\n",
    "            return True\n",
    "\n",
    "        variable = min(self.variables.values(), key=lambda x: len(x.domain))\n",
    "        if len(variable.domain) == 0:\n",
    "            return False\n",
    "\n",
    "        for value in variable.domain:\n",
    "            variable.assign(value)\n",
    "            self.propagate()\n",
    "            if self.consistent():\n",
    "                if self.search(depth_limit + 1):\n",
    "                    return True\n",
    "            self.backtrack()\n",
    "\n",
    "        variable.unassign()\n",
    "        return False\n",
    "\n",
    "    def backtrack(self):\n",
    "        for variable in self.variables.values():\n",
    "            if variable.assigned():\n",
    "                variable.unassign()\n",
    "                self.propagate()\n",
    "                if not self.consistent():\n",
    "                    return False\n",
    "        return True"
   ]
  },
  {
   "cell_type": "code",
   "execution_count": 49,
   "metadata": {},
   "outputs": [
    {
     "name": "stdout",
     "output_type": "stream",
     "text": [
      "S = 9\n"
     ]
    }
   ],
   "source": [
    "eq = \"SEND + MORE = MONEY\"\n",
    "crypt = Cryptarithmetic(eq)\n",
    "crypt.search()\n",
    "\n",
    "for variable, value in crypt.assignments.items():\n",
    "    print(f\"{variable} = {value}\")"
   ]
  },
  {
   "cell_type": "code",
   "execution_count": 44,
   "metadata": {},
   "outputs": [],
   "source": [
    "class Variable:\n",
    "    def __init__(self, name):\n",
    "        self.name = name\n",
    "        self.domain = set(range(10))\n",
    "        self._assigned = False\n",
    "\n",
    "    def assigned(self):\n",
    "        return self._assigned\n",
    "\n",
    "    def unassign(self):\n",
    "        self._assigned = False\n",
    "\n",
    "    def assign(self, value):\n",
    "        self.domain = {value}\n",
    "        self._assigned = True\n",
    "\n",
    "class Constraint:\n",
    "    def __init__(self, variable1, position, value):\n",
    "        self.variable1 = variable1\n",
    "        self.position = position\n",
    "        self.value = value\n",
    "        self.domain1 = set(range(10))\n",
    "        self.domain2 = set(range(10))\n",
    "\n",
    "    def reduce_domain(self, variable2):\n",
    "        if variable2 in self.variable1.domain:\n",
    "            self.domain1.intersection_update(self.variable1.domain)\n",
    "            self.domain2.intersection_update(self.variable1.domain)\n",
    "\n",
    "    def reduce_domain1_intersection(self):\n",
    "        self.domain1.intersection_update(self.variable1.domain)\n",
    "\n",
    "    def reduce_domain2_intersection(self):\n",
    "        self.domain2.intersection_update(self.variable1.domain)\n",
    "\n",
    "class Cryptarithmetic:\n",
    "    def __init__(self, equation):\n",
    "        self.equation = equation\n",
    "        self.variables = {}\n",
    "        self.domains = {}\n",
    "        self.constraints = {}\n",
    "        self.assignments = {}\n",
    "        self.solutions = []  # List to store all solutions\n",
    "        self.propagate_rules = []\n",
    "\n",
    "        # Define the variables\n",
    "        for letter in equation:\n",
    "            if letter.isalpha() and letter not in self.assignments:\n",
    "                self.variables[letter] = Variable(letter)\n",
    "                self.domains[letter] = set(range(10))\n",
    "\n",
    "        # Define the constraints (use dictionary comprehension for efficiency)\n",
    "        self.constraints = {\n",
    "            (a, i): Constraint(a, i, int(c) - int(b))\n",
    "            for i, (a, b, c) in enumerate(zip(equation[:-1], equation[1:], equation[2:]))\n",
    "            if a.isalpha() and b.isalpha() and c.isdigit()\n",
    "        }\n",
    "\n",
    "        # Define the propagation rules\n",
    "        self.propagate_rules.append(self.rule_unique_value)\n",
    "        self.propagate_rules.append(self.rule_sum_domain)\n",
    "        self.propagate_rules.append(self.rule_difference_domain)\n",
    "\n",
    "    def rule_unique_value(self):\n",
    "        for variable in self.variables.values():\n",
    "            if len(variable.domain) == 1:\n",
    "                self.assignments[variable.name] = variable.domain.pop()\n",
    "                for constraint in self.constraints.values():\n",
    "                    constraint.reduce_domain(variable.name)\n",
    "\n",
    "    def rule_sum_domain(self):\n",
    "        for constraint in self.constraints.values():\n",
    "            if len(constraint.domain1.intersection(constraint.domain2)) == 0:\n",
    "                return\n",
    "            if constraint.value <= sum(min(constraint.domain1), min(constraint.domain2)):\n",
    "                constraint.reduce_domain1_intersection()\n",
    "                constraint.reduce_domain2_intersection()\n",
    "\n",
    "    def rule_difference_domain(self):\n",
    "        for constraint in self.constraints.values():\n",
    "            if max(constraint.domain1) - min(constraint.domain2) > constraint.value - sum(constraint.domain2):\n",
    "                constraint.reduce_domain1_intersection()\n",
    "                constraint.reduce_domain2_intersection()\n",
    "\n",
    "    def propagate(self):\n",
    "        for rule in self.propagate_rules:\n",
    "            rule()\n",
    "\n",
    "    def consistent(self):\n",
    "        for variable in self.variables.values():\n",
    "            if len(variable.domain) == 0:\n",
    "                return False\n",
    "        return True\n",
    "\n",
    "    def solved(self):\n",
    "        return len(self.assignments) == len(self.variables)\n",
    "\n",
    "    def search(self, depth_limit=1):\n",
    "        if not self.consistent():\n",
    "            return False\n",
    "        if self.solved():\n",
    "            self.solutions.append(self.assignments.copy())\n",
    "            return True\n",
    "\n",
    "        variable = min(self.variables.values(), key=lambda x: len(x.domain))\n",
    "        if len(variable.domain) == 0:\n",
    "            return False\n",
    "\n",
    "        for value in variable.domain:\n",
    "            variable.assign(value)\n",
    "            self.propagate()\n",
    "            if self.consistent():\n",
    "                # Recursive call to explore this assignment further\n",
    "                if self.search(depth_limit + 1):\n",
    "                    return True\n",
    "        # Backtrack: undo the assignment and try other values\n",
    "            self.backtrack()\n",
    "\n",
    "        variable.unassign()\n",
    "        return False\n",
    "\n",
    "    def backtrack(self):\n",
    "        for variable in self.variables.values():\n",
    "            if variable.assigned():\n",
    "                variable.unassign()\n",
    "                self.propagate()\n",
    "                if not self.consistent():\n",
    "                    return False\n",
    "        return True\n"
   ]
  },
  {
   "cell_type": "code",
   "execution_count": null,
   "metadata": {},
   "outputs": [
    {
     "name": "stdout",
     "output_type": "stream",
     "text": [
      "No solutions found!\n"
     ]
    }
   ],
   "source": [
    "eq = \"SEND + MORE = MONEY\"\n",
    "crypt = Cryptarithmetic(eq)\n",
    "solutions = crypt.search()\n",
    "\n",
    "if solutions:\n",
    "    for solution in solutions:\n",
    "        for var, value in solution.items():\n",
    "            print(f\"{var} = {value}\")\n",
    "        print(\"---\")\n",
    "else:\n",
    "    print(\"No solutions found!\")\n"
   ]
  },
  {
   "cell_type": "markdown",
   "metadata": {},
   "source": [
    "# Parte Emiliano Sandoval"
   ]
  },
  {
   "cell_type": "code",
   "execution_count": 2,
   "metadata": {},
   "outputs": [],
   "source": [
    "class Variable:\n",
    "    \"\"\"A class to represent a variable in the cryptoarithmetic solver with a domain and assigned value.\"\"\"\n",
    "    def __init__(self, name):\n",
    "        self.name = name\n",
    "        self.domain = set(range(10))  # Each variable can potentially be any digit from 0-9\n",
    "        self.assigned_value = None\n",
    "\n",
    "    def assign(self, value):\n",
    "        \"\"\"Assign a value to the variable, limiting its domain to this single value.\"\"\"\n",
    "        self.domain = {value}\n",
    "        self.assigned_value = value\n",
    "\n",
    "    def unassign(self):\n",
    "        \"\"\"Reset the variable, making it unassigned and its domain full range again.\"\"\"\n",
    "        self.domain = set(range(10))\n",
    "        self.assigned_value = None\n",
    "\n",
    "    def is_assigned(self):\n",
    "        \"\"\"Check if the variable has an assigned value.\"\"\"\n",
    "        return self.assigned_value is not None"
   ]
  },
  {
   "cell_type": "code",
   "execution_count": 3,
   "metadata": {},
   "outputs": [],
   "source": [
    "class CryptoarithmeticSolver:\n",
    "    \"\"\"A solver for cryptoarithmetic problems using constraint satisfaction and backtracking.\"\"\"\n",
    "    def __init__(self, equation):\n",
    "        self.equation = equation.replace(\" \", \"\")\n",
    "        self.variables = {char: Variable(char) for char in set(self.equation) if char.isalpha()}\n",
    "        self.operands, self.result = self.parse_equation()\n",
    "        self.constraints = []  # Not utilized in this simple example but could be for complex constraints\n",
    "\n",
    "    def parse_equation(self):\n",
    "        \"\"\"Parse the input equation into operands and result.\"\"\"\n",
    "        left, right = self.equation.split('=')\n",
    "        operands = left.split('+')\n",
    "        return operands, right\n",
    "\n",
    "    def setup_domains(self):\n",
    "        \"\"\"Remove zero from the domain of variables that cannot be zero (leading digits).\"\"\"\n",
    "        for operand in self.operands + [self.result]:\n",
    "            if len(operand) > 1:\n",
    "                self.variables[operand[0]].domain.discard(0)\n",
    "\n",
    "    def all_different_constraint(self):\n",
    "        \"\"\"Ensure that all assigned variables have unique values.\"\"\"\n",
    "        used_digits = set()\n",
    "        for variable in self.variables.values():\n",
    "            if variable.is_assigned():\n",
    "                if variable.assigned_value in used_digits:\n",
    "                    return False\n",
    "                used_digits.add(variable.assigned_value)\n",
    "        return True\n",
    "\n",
    "    def solve(self):\n",
    "        \"\"\"Attempt to solve the puzzle using backtracking and constraint satisfaction.\"\"\"\n",
    "        if not self.all_different_constraint():\n",
    "            return False\n",
    "\n",
    "        unassigned_vars = [var for var in self.variables.values() if not var.is_assigned()]\n",
    "        if not unassigned_vars:  # If all variables are assigned, check if the solution is correct\n",
    "            return self.is_solved()\n",
    "\n",
    "        variable = min(unassigned_vars, key=lambda x: len(x.domain))\n",
    "        for value in list(variable.domain):\n",
    "            variable.assign(value)\n",
    "            if self.solve():\n",
    "                return True\n",
    "            variable.unassign()\n",
    "        return False\n",
    "\n",
    "    def is_solved(self):\n",
    "        \"\"\"Check if the current assignments satisfy the equation.\"\"\"\n",
    "        operand_values = [self.evaluate_operand(operand) for operand in self.operands]\n",
    "        result_value = self.evaluate_operand(self.result)\n",
    "        if None in operand_values or result_value is None:\n",
    "            return False\n",
    "        return sum(operand_values) == result_value\n",
    "\n",
    "    def evaluate_operand(self, operand):\n",
    "        \"\"\"Convert the operand from letters to its numeric value if all characters are assigned.\"\"\"\n",
    "        if all(self.variables[char].is_assigned() for char in operand):\n",
    "            return int(''.join(str(self.variables[char].assigned_value) for char in operand))\n",
    "        else:\n",
    "            return None\n",
    "        \n",
    "    def evaluate_result(self):\n",
    "        \"\"\"Evaluate and print the result of the cryptoarithmetic equation.\"\"\"\n",
    "        operand_values = [self.evaluate_operand(operand) for operand in self.operands]\n",
    "        result_value = self.evaluate_operand(self.result)\n",
    "        if None not in operand_values and result_value is not None:\n",
    "            computed_sum = sum(operand_values)\n",
    "            print(f\"Computed Sum of Operands: {computed_sum}\")\n",
    "            print(f\"Value of Result: {result_value}\")\n",
    "            print(\"Equation holds: \" + (\"True\" if computed_sum == result_value else \"False\"))\n",
    "        else:\n",
    "            print(\"Equation cannot be evaluated: Incomplete assignments.\")\n"
   ]
  },
  {
   "cell_type": "code",
   "execution_count": 4,
   "metadata": {},
   "outputs": [
    {
     "name": "stdout",
     "output_type": "stream",
     "text": [
      "R = 8\n",
      "O = 0\n",
      "E = 5\n",
      "Y = 2\n",
      "N = 6\n",
      "M = 1\n",
      "D = 7\n",
      "S = 9\n"
     ]
    }
   ],
   "source": [
    "equation = \"SEND + MORE = MONEY\"\n",
    "solver = CryptoarithmeticSolver(equation)\n",
    "solver.setup_domains()\n",
    "if solver.solve():\n",
    "    for char, var in solver.variables.items():\n",
    "        print(f\"{char} = {var.assigned_value}\")\n",
    "else:\n",
    "    print(\"No solution found.\")"
   ]
  },
  {
   "cell_type": "code",
   "execution_count": 22,
   "metadata": {},
   "outputs": [
    {
     "name": "stdout",
     "output_type": "stream",
     "text": [
      "Computed Sum of Operands: 3185\n",
      "Value of Result: 3185\n",
      "Equation holds: True\n"
     ]
    }
   ],
   "source": [
    "solver.evaluate_result()"
   ]
  },
  {
   "cell_type": "code",
   "execution_count": 5,
   "metadata": {},
   "outputs": [],
   "source": [
    "# Pruebas "
   ]
  },
  {
   "cell_type": "code",
   "execution_count": 6,
   "metadata": {},
   "outputs": [
    {
     "name": "stdout",
     "output_type": "stream",
     "text": [
      "R = 8\n",
      "O = 0\n",
      "E = 5\n",
      "Y = 2\n",
      "N = 6\n",
      "M = 1\n",
      "D = 7\n",
      "S = 9\n"
     ]
    }
   ],
   "source": [
    "equation = \"SEND + MORE = MONEY\"\n",
    "solver = CryptoarithmeticSolver(equation)\n",
    "solver.setup_domains()\n",
    "if solver.solve():\n",
    "    for char, var in solver.variables.items():\n",
    "        print(f\"{char} = {var.assigned_value}\")\n",
    "else:\n",
    "    print(\"No solution found.\")"
   ]
  },
  {
   "cell_type": "code",
   "execution_count": 7,
   "metadata": {},
   "outputs": [
    {
     "name": "stdout",
     "output_type": "stream",
     "text": [
      "R = 8\n",
      "T = 2\n",
      "O = 4\n",
      "U = 6\n",
      "W = 3\n",
      "F = 0\n"
     ]
    }
   ],
   "source": [
    "equation = \"TWO + TWO = FOUR\"\n",
    "solver = CryptoarithmeticSolver(equation)\n",
    "solver.setup_domains()\n",
    "if solver.solve():\n",
    "    for char, var in solver.variables.items():\n",
    "        print(f\"{char} = {var.assigned_value}\")\n",
    "else:\n",
    "    print(\"No solution found.\")"
   ]
  },
  {
   "cell_type": "code",
   "execution_count": 8,
   "metadata": {},
   "outputs": [
    {
     "name": "stdout",
     "output_type": "stream",
     "text": [
      "No solution found.\n"
     ]
    }
   ],
   "source": [
    "equation = \"CAFE + BEAD = DEAF\"\n",
    "solver = CryptoarithmeticSolver(equation)\n",
    "solver.setup_domains()\n",
    "if solver.solve():\n",
    "    for char, var in solver.variables.items():\n",
    "        print(f\"{char} = {var.assigned_value}\")\n",
    "else:\n",
    "    print(\"No solution found.\")"
   ]
  },
  {
   "cell_type": "code",
   "execution_count": 15,
   "metadata": {},
   "outputs": [
    {
     "name": "stdout",
     "output_type": "stream",
     "text": [
      "R = 6\n",
      "O = 2\n",
      "E = 4\n",
      "G = 7\n",
      "N = 8\n",
      "A = 5\n",
      "D = 1\n",
      "S = 3\n",
      "C = 9\n"
     ]
    }
   ],
   "source": [
    "equation = \"CROSS + ROADS = DANGER\"\n",
    "solver = CryptoarithmeticSolver(equation)\n",
    "solver.setup_domains()\n",
    "if solver.solve():\n",
    "    for char, var in solver.variables.items():\n",
    "        print(f\"{char} = {var.assigned_value}\")\n",
    "else:\n",
    "    print(\"No solution found.\")"
   ]
  },
  {
   "cell_type": "code",
   "execution_count": 10,
   "metadata": {},
   "outputs": [
    {
     "name": "stdout",
     "output_type": "stream",
     "text": [
      "e = 4\n",
      "m = 7\n",
      "b = 2\n",
      "g = 0\n",
      "a = 3\n",
      "l = 5\n",
      "B = 1\n",
      "s = 9\n"
     ]
    }
   ],
   "source": [
    "equation = \"Base + ball = games\"\n",
    "solver = CryptoarithmeticSolver(equation)\n",
    "solver.setup_domains()\n",
    "if solver.solve():\n",
    "    for char, var in solver.variables.items():\n",
    "        print(f\"{char} = {var.assigned_value}\")\n",
    "else:\n",
    "    print(\"No solution found.\")"
   ]
  },
  {
   "cell_type": "code",
   "execution_count": 11,
   "metadata": {},
   "outputs": [
    {
     "name": "stdout",
     "output_type": "stream",
     "text": [
      "T = 9\n",
      "E = 8\n",
      "P = 0\n",
      "A = 1\n",
      "H = 2\n",
      "L = 3\n"
     ]
    }
   ],
   "source": [
    "equation = \"EAT + THAT = APPLE\"\n",
    "solver = CryptoarithmeticSolver(equation)\n",
    "solver.setup_domains()\n",
    "if solver.solve():\n",
    "    for char, var in solver.variables.items():\n",
    "        print(f\"{char} = {var.assigned_value}\")\n",
    "else:\n",
    "    print(\"No solution found.\")"
   ]
  },
  {
   "cell_type": "code",
   "execution_count": 12,
   "metadata": {},
   "outputs": [
    {
     "name": "stdout",
     "output_type": "stream",
     "text": [
      "No solution found.\n"
     ]
    }
   ],
   "source": [
    "equation = \"CAR + CAR = TRUCK\"\n",
    "solver = CryptoarithmeticSolver(equation)\n",
    "solver.setup_domains()\n",
    "if solver.solve():\n",
    "    for char, var in solver.variables.items():\n",
    "        print(f\"{char} = {var.assigned_value}\")\n",
    "else:\n",
    "    print(\"No solution found.\")"
   ]
  },
  {
   "cell_type": "code",
   "execution_count": 13,
   "metadata": {},
   "outputs": [
    {
     "name": "stdout",
     "output_type": "stream",
     "text": [
      "I = 3\n",
      "R = 4\n",
      "T = 2\n",
      "U = 0\n",
      "E = 6\n",
      "G = 9\n",
      "N = 1\n",
      "M = 7\n",
      "D = 5\n",
      "B = 8\n"
     ]
    }
   ],
   "source": [
    "equation = \"DIGIT + DIGIT = NUMBER\"\n",
    "solver = CryptoarithmeticSolver(equation)\n",
    "solver.setup_domains()\n",
    "if solver.solve():\n",
    "    for char, var in solver.variables.items():\n",
    "        print(f\"{char} = {var.assigned_value}\")\n",
    "else:\n",
    "    print(\"No solution found.\")"
   ]
  },
  {
   "cell_type": "code",
   "execution_count": 14,
   "metadata": {},
   "outputs": [
    {
     "name": "stdout",
     "output_type": "stream",
     "text": [
      "R = 4\n",
      "T = 1\n",
      "E = 0\n",
      "N = 3\n",
      "W = 7\n",
      "H = 2\n"
     ]
    }
   ],
   "source": [
    "equation = \"TEN + HER = NEW\"\n",
    "solver = CryptoarithmeticSolver(equation)\n",
    "solver.setup_domains()\n",
    "if solver.solve():\n",
    "    for char, var in solver.variables.items():\n",
    "        print(f\"{char} = {var.assigned_value}\")\n",
    "else:\n",
    "    print(\"No solution found.\")"
   ]
  },
  {
   "cell_type": "code",
   "execution_count": 22,
   "metadata": {},
   "outputs": [],
   "source": [
    "def generate_problems(num_problems):\n",
    "    \"\"\"Generate and solve a specified number of cryptoarithmetic problems.\"\"\"\n",
    "    solved_count = 0\n",
    "    for i in range(num_problems):\n",
    "        puzzle = generate_puzzle()  # Generate a new puzzle\n",
    "        solver = CryptoarithmeticSolver(puzzle)\n",
    "        if solver.solve():\n",
    "            solved_count += 1\n",
    "    return solved_count"
   ]
  },
  {
   "cell_type": "code",
   "execution_count": 23,
   "metadata": {},
   "outputs": [
    {
     "ename": "KeyboardInterrupt",
     "evalue": "",
     "output_type": "error",
     "traceback": [
      "\u001b[0;31m---------------------------------------------------------------------------\u001b[0m",
      "\u001b[0;31mKeyboardInterrupt\u001b[0m                         Traceback (most recent call last)",
      "\u001b[0;32m/var/folders/n7/qlhllrgx2yn5j03xvwrsth3w0000gn/T/ipykernel_74305/4111655125.py\u001b[0m in \u001b[0;36m<module>\u001b[0;34m\u001b[0m\n\u001b[1;32m     13\u001b[0m \u001b[0mnum_problems\u001b[0m \u001b[0;34m=\u001b[0m \u001b[0;36m10\u001b[0m\u001b[0;34m\u001b[0m\u001b[0;34m\u001b[0m\u001b[0m\n\u001b[1;32m     14\u001b[0m \u001b[0;31m# Generate and solve the problems\u001b[0m\u001b[0;34m\u001b[0m\u001b[0;34m\u001b[0m\u001b[0m\n\u001b[0;32m---> 15\u001b[0;31m \u001b[0msolved_count\u001b[0m \u001b[0;34m=\u001b[0m \u001b[0mgenerate_problems\u001b[0m\u001b[0;34m(\u001b[0m\u001b[0mnum_problems\u001b[0m\u001b[0;34m)\u001b[0m\u001b[0;34m\u001b[0m\u001b[0;34m\u001b[0m\u001b[0m\n\u001b[0m\u001b[1;32m     16\u001b[0m \u001b[0mprint\u001b[0m\u001b[0;34m(\u001b[0m\u001b[0;34mf\"Solved {solved_count} out of {num_problems} problems.\"\u001b[0m\u001b[0;34m)\u001b[0m\u001b[0;34m\u001b[0m\u001b[0;34m\u001b[0m\u001b[0m\n",
      "\u001b[0;32m/var/folders/n7/qlhllrgx2yn5j03xvwrsth3w0000gn/T/ipykernel_74305/3678396279.py\u001b[0m in \u001b[0;36mgenerate_problems\u001b[0;34m(num_problems)\u001b[0m\n\u001b[1;32m      5\u001b[0m         \u001b[0mpuzzle\u001b[0m \u001b[0;34m=\u001b[0m \u001b[0mgenerate_puzzle\u001b[0m\u001b[0;34m(\u001b[0m\u001b[0;34m)\u001b[0m  \u001b[0;31m# Generate a new puzzle\u001b[0m\u001b[0;34m\u001b[0m\u001b[0;34m\u001b[0m\u001b[0m\n\u001b[1;32m      6\u001b[0m         \u001b[0msolver\u001b[0m \u001b[0;34m=\u001b[0m \u001b[0mCryptoarithmeticSolver\u001b[0m\u001b[0;34m(\u001b[0m\u001b[0mpuzzle\u001b[0m\u001b[0;34m)\u001b[0m\u001b[0;34m\u001b[0m\u001b[0;34m\u001b[0m\u001b[0m\n\u001b[0;32m----> 7\u001b[0;31m         \u001b[0;32mif\u001b[0m \u001b[0msolver\u001b[0m\u001b[0;34m.\u001b[0m\u001b[0msolve\u001b[0m\u001b[0;34m(\u001b[0m\u001b[0;34m)\u001b[0m\u001b[0;34m:\u001b[0m\u001b[0;34m\u001b[0m\u001b[0;34m\u001b[0m\u001b[0m\n\u001b[0m\u001b[1;32m      8\u001b[0m             \u001b[0msolved_count\u001b[0m \u001b[0;34m+=\u001b[0m \u001b[0;36m1\u001b[0m\u001b[0;34m\u001b[0m\u001b[0;34m\u001b[0m\u001b[0m\n\u001b[1;32m      9\u001b[0m     \u001b[0;32mreturn\u001b[0m \u001b[0msolved_count\u001b[0m\u001b[0;34m\u001b[0m\u001b[0;34m\u001b[0m\u001b[0m\n",
      "\u001b[0;32m/var/folders/n7/qlhllrgx2yn5j03xvwrsth3w0000gn/T/ipykernel_74305/2152554883.py\u001b[0m in \u001b[0;36msolve\u001b[0;34m(self)\u001b[0m\n\u001b[1;32m     41\u001b[0m         \u001b[0;32mfor\u001b[0m \u001b[0mvalue\u001b[0m \u001b[0;32min\u001b[0m \u001b[0mlist\u001b[0m\u001b[0;34m(\u001b[0m\u001b[0mvariable\u001b[0m\u001b[0;34m.\u001b[0m\u001b[0mdomain\u001b[0m\u001b[0;34m)\u001b[0m\u001b[0;34m:\u001b[0m\u001b[0;34m\u001b[0m\u001b[0;34m\u001b[0m\u001b[0m\n\u001b[1;32m     42\u001b[0m             \u001b[0mvariable\u001b[0m\u001b[0;34m.\u001b[0m\u001b[0massign\u001b[0m\u001b[0;34m(\u001b[0m\u001b[0mvalue\u001b[0m\u001b[0;34m)\u001b[0m\u001b[0;34m\u001b[0m\u001b[0;34m\u001b[0m\u001b[0m\n\u001b[0;32m---> 43\u001b[0;31m             \u001b[0;32mif\u001b[0m \u001b[0mself\u001b[0m\u001b[0;34m.\u001b[0m\u001b[0msolve\u001b[0m\u001b[0;34m(\u001b[0m\u001b[0;34m)\u001b[0m\u001b[0;34m:\u001b[0m\u001b[0;34m\u001b[0m\u001b[0;34m\u001b[0m\u001b[0m\n\u001b[0m\u001b[1;32m     44\u001b[0m                 \u001b[0;32mreturn\u001b[0m \u001b[0;32mTrue\u001b[0m\u001b[0;34m\u001b[0m\u001b[0;34m\u001b[0m\u001b[0m\n\u001b[1;32m     45\u001b[0m             \u001b[0mvariable\u001b[0m\u001b[0;34m.\u001b[0m\u001b[0munassign\u001b[0m\u001b[0;34m(\u001b[0m\u001b[0;34m)\u001b[0m\u001b[0;34m\u001b[0m\u001b[0;34m\u001b[0m\u001b[0m\n",
      "\u001b[0;32m/var/folders/n7/qlhllrgx2yn5j03xvwrsth3w0000gn/T/ipykernel_74305/2152554883.py\u001b[0m in \u001b[0;36msolve\u001b[0;34m(self)\u001b[0m\n\u001b[1;32m     41\u001b[0m         \u001b[0;32mfor\u001b[0m \u001b[0mvalue\u001b[0m \u001b[0;32min\u001b[0m \u001b[0mlist\u001b[0m\u001b[0;34m(\u001b[0m\u001b[0mvariable\u001b[0m\u001b[0;34m.\u001b[0m\u001b[0mdomain\u001b[0m\u001b[0;34m)\u001b[0m\u001b[0;34m:\u001b[0m\u001b[0;34m\u001b[0m\u001b[0;34m\u001b[0m\u001b[0m\n\u001b[1;32m     42\u001b[0m             \u001b[0mvariable\u001b[0m\u001b[0;34m.\u001b[0m\u001b[0massign\u001b[0m\u001b[0;34m(\u001b[0m\u001b[0mvalue\u001b[0m\u001b[0;34m)\u001b[0m\u001b[0;34m\u001b[0m\u001b[0;34m\u001b[0m\u001b[0m\n\u001b[0;32m---> 43\u001b[0;31m             \u001b[0;32mif\u001b[0m \u001b[0mself\u001b[0m\u001b[0;34m.\u001b[0m\u001b[0msolve\u001b[0m\u001b[0;34m(\u001b[0m\u001b[0;34m)\u001b[0m\u001b[0;34m:\u001b[0m\u001b[0;34m\u001b[0m\u001b[0;34m\u001b[0m\u001b[0m\n\u001b[0m\u001b[1;32m     44\u001b[0m                 \u001b[0;32mreturn\u001b[0m \u001b[0;32mTrue\u001b[0m\u001b[0;34m\u001b[0m\u001b[0;34m\u001b[0m\u001b[0m\n\u001b[1;32m     45\u001b[0m             \u001b[0mvariable\u001b[0m\u001b[0;34m.\u001b[0m\u001b[0munassign\u001b[0m\u001b[0;34m(\u001b[0m\u001b[0;34m)\u001b[0m\u001b[0;34m\u001b[0m\u001b[0;34m\u001b[0m\u001b[0m\n",
      "\u001b[0;32m/var/folders/n7/qlhllrgx2yn5j03xvwrsth3w0000gn/T/ipykernel_74305/2152554883.py\u001b[0m in \u001b[0;36msolve\u001b[0;34m(self)\u001b[0m\n\u001b[1;32m     41\u001b[0m         \u001b[0;32mfor\u001b[0m \u001b[0mvalue\u001b[0m \u001b[0;32min\u001b[0m \u001b[0mlist\u001b[0m\u001b[0;34m(\u001b[0m\u001b[0mvariable\u001b[0m\u001b[0;34m.\u001b[0m\u001b[0mdomain\u001b[0m\u001b[0;34m)\u001b[0m\u001b[0;34m:\u001b[0m\u001b[0;34m\u001b[0m\u001b[0;34m\u001b[0m\u001b[0m\n\u001b[1;32m     42\u001b[0m             \u001b[0mvariable\u001b[0m\u001b[0;34m.\u001b[0m\u001b[0massign\u001b[0m\u001b[0;34m(\u001b[0m\u001b[0mvalue\u001b[0m\u001b[0;34m)\u001b[0m\u001b[0;34m\u001b[0m\u001b[0;34m\u001b[0m\u001b[0m\n\u001b[0;32m---> 43\u001b[0;31m             \u001b[0;32mif\u001b[0m \u001b[0mself\u001b[0m\u001b[0;34m.\u001b[0m\u001b[0msolve\u001b[0m\u001b[0;34m(\u001b[0m\u001b[0;34m)\u001b[0m\u001b[0;34m:\u001b[0m\u001b[0;34m\u001b[0m\u001b[0;34m\u001b[0m\u001b[0m\n\u001b[0m\u001b[1;32m     44\u001b[0m                 \u001b[0;32mreturn\u001b[0m \u001b[0;32mTrue\u001b[0m\u001b[0;34m\u001b[0m\u001b[0;34m\u001b[0m\u001b[0m\n\u001b[1;32m     45\u001b[0m             \u001b[0mvariable\u001b[0m\u001b[0;34m.\u001b[0m\u001b[0munassign\u001b[0m\u001b[0;34m(\u001b[0m\u001b[0;34m)\u001b[0m\u001b[0;34m\u001b[0m\u001b[0;34m\u001b[0m\u001b[0m\n",
      "\u001b[0;32m/var/folders/n7/qlhllrgx2yn5j03xvwrsth3w0000gn/T/ipykernel_74305/2152554883.py\u001b[0m in \u001b[0;36msolve\u001b[0;34m(self)\u001b[0m\n\u001b[1;32m     41\u001b[0m         \u001b[0;32mfor\u001b[0m \u001b[0mvalue\u001b[0m \u001b[0;32min\u001b[0m \u001b[0mlist\u001b[0m\u001b[0;34m(\u001b[0m\u001b[0mvariable\u001b[0m\u001b[0;34m.\u001b[0m\u001b[0mdomain\u001b[0m\u001b[0;34m)\u001b[0m\u001b[0;34m:\u001b[0m\u001b[0;34m\u001b[0m\u001b[0;34m\u001b[0m\u001b[0m\n\u001b[1;32m     42\u001b[0m             \u001b[0mvariable\u001b[0m\u001b[0;34m.\u001b[0m\u001b[0massign\u001b[0m\u001b[0;34m(\u001b[0m\u001b[0mvalue\u001b[0m\u001b[0;34m)\u001b[0m\u001b[0;34m\u001b[0m\u001b[0;34m\u001b[0m\u001b[0m\n\u001b[0;32m---> 43\u001b[0;31m             \u001b[0;32mif\u001b[0m \u001b[0mself\u001b[0m\u001b[0;34m.\u001b[0m\u001b[0msolve\u001b[0m\u001b[0;34m(\u001b[0m\u001b[0;34m)\u001b[0m\u001b[0;34m:\u001b[0m\u001b[0;34m\u001b[0m\u001b[0;34m\u001b[0m\u001b[0m\n\u001b[0m\u001b[1;32m     44\u001b[0m                 \u001b[0;32mreturn\u001b[0m \u001b[0;32mTrue\u001b[0m\u001b[0;34m\u001b[0m\u001b[0;34m\u001b[0m\u001b[0m\n\u001b[1;32m     45\u001b[0m             \u001b[0mvariable\u001b[0m\u001b[0;34m.\u001b[0m\u001b[0munassign\u001b[0m\u001b[0;34m(\u001b[0m\u001b[0;34m)\u001b[0m\u001b[0;34m\u001b[0m\u001b[0;34m\u001b[0m\u001b[0m\n",
      "\u001b[0;32m/var/folders/n7/qlhllrgx2yn5j03xvwrsth3w0000gn/T/ipykernel_74305/2152554883.py\u001b[0m in \u001b[0;36msolve\u001b[0;34m(self)\u001b[0m\n\u001b[1;32m     41\u001b[0m         \u001b[0;32mfor\u001b[0m \u001b[0mvalue\u001b[0m \u001b[0;32min\u001b[0m \u001b[0mlist\u001b[0m\u001b[0;34m(\u001b[0m\u001b[0mvariable\u001b[0m\u001b[0;34m.\u001b[0m\u001b[0mdomain\u001b[0m\u001b[0;34m)\u001b[0m\u001b[0;34m:\u001b[0m\u001b[0;34m\u001b[0m\u001b[0;34m\u001b[0m\u001b[0m\n\u001b[1;32m     42\u001b[0m             \u001b[0mvariable\u001b[0m\u001b[0;34m.\u001b[0m\u001b[0massign\u001b[0m\u001b[0;34m(\u001b[0m\u001b[0mvalue\u001b[0m\u001b[0;34m)\u001b[0m\u001b[0;34m\u001b[0m\u001b[0;34m\u001b[0m\u001b[0m\n\u001b[0;32m---> 43\u001b[0;31m             \u001b[0;32mif\u001b[0m \u001b[0mself\u001b[0m\u001b[0;34m.\u001b[0m\u001b[0msolve\u001b[0m\u001b[0;34m(\u001b[0m\u001b[0;34m)\u001b[0m\u001b[0;34m:\u001b[0m\u001b[0;34m\u001b[0m\u001b[0;34m\u001b[0m\u001b[0m\n\u001b[0m\u001b[1;32m     44\u001b[0m                 \u001b[0;32mreturn\u001b[0m \u001b[0;32mTrue\u001b[0m\u001b[0;34m\u001b[0m\u001b[0;34m\u001b[0m\u001b[0m\n\u001b[1;32m     45\u001b[0m             \u001b[0mvariable\u001b[0m\u001b[0;34m.\u001b[0m\u001b[0munassign\u001b[0m\u001b[0;34m(\u001b[0m\u001b[0;34m)\u001b[0m\u001b[0;34m\u001b[0m\u001b[0;34m\u001b[0m\u001b[0m\n",
      "\u001b[0;32m/var/folders/n7/qlhllrgx2yn5j03xvwrsth3w0000gn/T/ipykernel_74305/2152554883.py\u001b[0m in \u001b[0;36msolve\u001b[0;34m(self)\u001b[0m\n\u001b[1;32m     41\u001b[0m         \u001b[0;32mfor\u001b[0m \u001b[0mvalue\u001b[0m \u001b[0;32min\u001b[0m \u001b[0mlist\u001b[0m\u001b[0;34m(\u001b[0m\u001b[0mvariable\u001b[0m\u001b[0;34m.\u001b[0m\u001b[0mdomain\u001b[0m\u001b[0;34m)\u001b[0m\u001b[0;34m:\u001b[0m\u001b[0;34m\u001b[0m\u001b[0;34m\u001b[0m\u001b[0m\n\u001b[1;32m     42\u001b[0m             \u001b[0mvariable\u001b[0m\u001b[0;34m.\u001b[0m\u001b[0massign\u001b[0m\u001b[0;34m(\u001b[0m\u001b[0mvalue\u001b[0m\u001b[0;34m)\u001b[0m\u001b[0;34m\u001b[0m\u001b[0;34m\u001b[0m\u001b[0m\n\u001b[0;32m---> 43\u001b[0;31m             \u001b[0;32mif\u001b[0m \u001b[0mself\u001b[0m\u001b[0;34m.\u001b[0m\u001b[0msolve\u001b[0m\u001b[0;34m(\u001b[0m\u001b[0;34m)\u001b[0m\u001b[0;34m:\u001b[0m\u001b[0;34m\u001b[0m\u001b[0;34m\u001b[0m\u001b[0m\n\u001b[0m\u001b[1;32m     44\u001b[0m                 \u001b[0;32mreturn\u001b[0m \u001b[0;32mTrue\u001b[0m\u001b[0;34m\u001b[0m\u001b[0;34m\u001b[0m\u001b[0m\n\u001b[1;32m     45\u001b[0m             \u001b[0mvariable\u001b[0m\u001b[0;34m.\u001b[0m\u001b[0munassign\u001b[0m\u001b[0;34m(\u001b[0m\u001b[0;34m)\u001b[0m\u001b[0;34m\u001b[0m\u001b[0;34m\u001b[0m\u001b[0m\n",
      "\u001b[0;32m/var/folders/n7/qlhllrgx2yn5j03xvwrsth3w0000gn/T/ipykernel_74305/2152554883.py\u001b[0m in \u001b[0;36msolve\u001b[0;34m(self)\u001b[0m\n\u001b[1;32m     41\u001b[0m         \u001b[0;32mfor\u001b[0m \u001b[0mvalue\u001b[0m \u001b[0;32min\u001b[0m \u001b[0mlist\u001b[0m\u001b[0;34m(\u001b[0m\u001b[0mvariable\u001b[0m\u001b[0;34m.\u001b[0m\u001b[0mdomain\u001b[0m\u001b[0;34m)\u001b[0m\u001b[0;34m:\u001b[0m\u001b[0;34m\u001b[0m\u001b[0;34m\u001b[0m\u001b[0m\n\u001b[1;32m     42\u001b[0m             \u001b[0mvariable\u001b[0m\u001b[0;34m.\u001b[0m\u001b[0massign\u001b[0m\u001b[0;34m(\u001b[0m\u001b[0mvalue\u001b[0m\u001b[0;34m)\u001b[0m\u001b[0;34m\u001b[0m\u001b[0;34m\u001b[0m\u001b[0m\n\u001b[0;32m---> 43\u001b[0;31m             \u001b[0;32mif\u001b[0m \u001b[0mself\u001b[0m\u001b[0;34m.\u001b[0m\u001b[0msolve\u001b[0m\u001b[0;34m(\u001b[0m\u001b[0;34m)\u001b[0m\u001b[0;34m:\u001b[0m\u001b[0;34m\u001b[0m\u001b[0;34m\u001b[0m\u001b[0m\n\u001b[0m\u001b[1;32m     44\u001b[0m                 \u001b[0;32mreturn\u001b[0m \u001b[0;32mTrue\u001b[0m\u001b[0;34m\u001b[0m\u001b[0;34m\u001b[0m\u001b[0m\n\u001b[1;32m     45\u001b[0m             \u001b[0mvariable\u001b[0m\u001b[0;34m.\u001b[0m\u001b[0munassign\u001b[0m\u001b[0;34m(\u001b[0m\u001b[0;34m)\u001b[0m\u001b[0;34m\u001b[0m\u001b[0;34m\u001b[0m\u001b[0m\n",
      "\u001b[0;32m/var/folders/n7/qlhllrgx2yn5j03xvwrsth3w0000gn/T/ipykernel_74305/2152554883.py\u001b[0m in \u001b[0;36msolve\u001b[0;34m(self)\u001b[0m\n\u001b[1;32m     43\u001b[0m             \u001b[0;32mif\u001b[0m \u001b[0mself\u001b[0m\u001b[0;34m.\u001b[0m\u001b[0msolve\u001b[0m\u001b[0;34m(\u001b[0m\u001b[0;34m)\u001b[0m\u001b[0;34m:\u001b[0m\u001b[0;34m\u001b[0m\u001b[0;34m\u001b[0m\u001b[0m\n\u001b[1;32m     44\u001b[0m                 \u001b[0;32mreturn\u001b[0m \u001b[0;32mTrue\u001b[0m\u001b[0;34m\u001b[0m\u001b[0;34m\u001b[0m\u001b[0m\n\u001b[0;32m---> 45\u001b[0;31m             \u001b[0mvariable\u001b[0m\u001b[0;34m.\u001b[0m\u001b[0munassign\u001b[0m\u001b[0;34m(\u001b[0m\u001b[0;34m)\u001b[0m\u001b[0;34m\u001b[0m\u001b[0;34m\u001b[0m\u001b[0m\n\u001b[0m\u001b[1;32m     46\u001b[0m         \u001b[0;32mreturn\u001b[0m \u001b[0;32mFalse\u001b[0m\u001b[0;34m\u001b[0m\u001b[0;34m\u001b[0m\u001b[0m\n\u001b[1;32m     47\u001b[0m \u001b[0;34m\u001b[0m\u001b[0m\n",
      "\u001b[0;32m/var/folders/n7/qlhllrgx2yn5j03xvwrsth3w0000gn/T/ipykernel_74305/16248757.py\u001b[0m in \u001b[0;36munassign\u001b[0;34m(self)\u001b[0m\n\u001b[1;32m     13\u001b[0m     \u001b[0;32mdef\u001b[0m \u001b[0munassign\u001b[0m\u001b[0;34m(\u001b[0m\u001b[0mself\u001b[0m\u001b[0;34m)\u001b[0m\u001b[0;34m:\u001b[0m\u001b[0;34m\u001b[0m\u001b[0;34m\u001b[0m\u001b[0m\n\u001b[1;32m     14\u001b[0m         \u001b[0;34m\"\"\"Reset the variable, making it unassigned and its domain full range again.\"\"\"\u001b[0m\u001b[0;34m\u001b[0m\u001b[0;34m\u001b[0m\u001b[0m\n\u001b[0;32m---> 15\u001b[0;31m         \u001b[0mself\u001b[0m\u001b[0;34m.\u001b[0m\u001b[0mdomain\u001b[0m \u001b[0;34m=\u001b[0m \u001b[0mset\u001b[0m\u001b[0;34m(\u001b[0m\u001b[0mrange\u001b[0m\u001b[0;34m(\u001b[0m\u001b[0;36m10\u001b[0m\u001b[0;34m)\u001b[0m\u001b[0;34m)\u001b[0m\u001b[0;34m\u001b[0m\u001b[0;34m\u001b[0m\u001b[0m\n\u001b[0m\u001b[1;32m     16\u001b[0m         \u001b[0mself\u001b[0m\u001b[0;34m.\u001b[0m\u001b[0massigned_value\u001b[0m \u001b[0;34m=\u001b[0m \u001b[0;32mNone\u001b[0m\u001b[0;34m\u001b[0m\u001b[0;34m\u001b[0m\u001b[0m\n\u001b[1;32m     17\u001b[0m \u001b[0;34m\u001b[0m\u001b[0m\n",
      "\u001b[0;31mKeyboardInterrupt\u001b[0m: "
     ]
    }
   ],
   "source": [
    "import random \n",
    "def generate_puzzle():\n",
    "    \"\"\"Generate a random cryptoarithmetic puzzle.\"\"\"\n",
    "    # Define a list of words to choose from\n",
    "    words = [\"SEND\", \"MORE\", \"MONEY\", \"WATER\", \"JUICE\", \"SODA\", \"CANDY\", \"SNACK\", \"COOKIE\"]\n",
    "    # Randomly select three words from the list\n",
    "    selected_words = random.sample(words, 3)\n",
    "    # Join the words into a puzzle equation\n",
    "    puzzle = \" + \".join(selected_words[:-1]) + \" = \" + selected_words[-1]\n",
    "    return puzzle\n",
    "\n",
    "# Define the number of problems to generate and solve\n",
    "num_problems = 10\n",
    "# Generate and solve the problems\n",
    "solved_count = generate_problems(num_problems)\n",
    "print(f\"Solved {solved_count} out of {num_problems} problems.\")"
   ]
  }
 ],
 "metadata": {
  "kernelspec": {
   "display_name": "Python 3",
   "language": "python",
   "name": "python3"
  },
  "language_info": {
   "codemirror_mode": {
    "name": "ipython",
    "version": 3
   },
   "file_extension": ".py",
   "mimetype": "text/x-python",
   "name": "python",
   "nbconvert_exporter": "python",
   "pygments_lexer": "ipython3",
   "version": "3.9.13"
  },
  "orig_nbformat": 4
 },
 "nbformat": 4,
 "nbformat_minor": 2
}
